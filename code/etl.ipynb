{
 "cells": [
  {
   "cell_type": "code",
   "execution_count": null,
   "metadata": {},
   "outputs": [],
   "source": [
    "import pandas as pd\n",
    "import numpy as np"
   ]
  },
  {
   "cell_type": "code",
   "execution_count": 2,
   "metadata": {},
   "outputs": [],
   "source": [
    "DATA_PATH = \"./data/\"\n",
    "MED_FILE = \"PRESCRIPTIONS.csv\"\n",
    "DIAGS_FILE = \"DIAGNOSES_ICD.csv\"\n",
    "NDC_TO_ADC_FILE = \"package_NDC_ATC4_classes.csv\""
   ]
  },
  {
   "cell_type": "code",
   "execution_count": null,
   "metadata": {},
   "outputs": [],
   "source": [
    "def process_med():\n",
    "    Field = [\"SUBJECT_ID\",\"HADM_ID\",\"ICUSTAY_ID\",\"STARTDATE\",\"NDC\"]\n",
    "    FieldType = {\"SUBJECT_ID\": 'Int64',\n",
    "                \"HADM_ID\": 'Int64',\n",
    "                \"ICUSTAY_ID\": 'Int64',\n",
    "                \"NDC\": 'str',\n",
    "                }\n",
    "    med_df = pd.read_csv(DATA_PATH+MED_FILE, usecols=Field, dtype=FieldType, parse_dates=[\"STARTDATE\"])\n",
    "\n",
    "    med_df = med_df[med_df['NDC'] != '0'] \n",
    "    med_df.fillna(method='pad', inplace=True)\n",
    "    med_df.dropna(inplace=True) \n",
    "    med_df.drop_duplicates(inplace=True)\n",
    "    med_df.sort_values(by=['SUBJECT_ID', 'HADM_ID', 'ICUSTAY_ID', 'STARTDATE'], inplace=True)\n",
    "    med_df = med_df.reset_index(drop=True)\n",
    "\n",
    "    def filter_first24hour_med(med_df):\n",
    "        med_df_new = med_df.drop(columns=['NDC'])\n",
    "        med_df_new = med_df_new.groupby(by=['SUBJECT_ID','HADM_ID','ICUSTAY_ID']).head(1).reset_index(drop=True) #returns the first startdate\n",
    "        med_df_new = pd.merge(med_df_new, med_df, on=['SUBJECT_ID','HADM_ID','ICUSTAY_ID','STARTDATE'])\n",
    "        med_df_new = med_df_new.drop(columns=['STARTDATE'])\n",
    "        return med_df_new\n",
    "    med_df = filter_first24hour_med(med_df) \n",
    "    med_df = med_df.drop(columns=['ICUSTAY_ID'])\n",
    "    med_df = med_df.drop_duplicates()\n",
    "\n",
    "    return med_df.reset_index(drop=True)"
   ]
  },
  {
   "cell_type": "code",
   "execution_count": 9,
   "metadata": {},
   "outputs": [
    {
     "name": "stderr",
     "output_type": "stream",
     "text": [
      "C:\\Users\\kevin\\AppData\\Local\\Temp\\ipykernel_58968\\1164149481.py:11: FutureWarning: DataFrame.fillna with 'method' is deprecated and will raise in a future version. Use obj.ffill() or obj.bfill() instead.\n",
      "  med_df.fillna(method='pad', inplace=True)\n"
     ]
    },
    {
     "data": {
      "text/html": [
       "<div>\n",
       "<style scoped>\n",
       "    .dataframe tbody tr th:only-of-type {\n",
       "        vertical-align: middle;\n",
       "    }\n",
       "\n",
       "    .dataframe tbody tr th {\n",
       "        vertical-align: top;\n",
       "    }\n",
       "\n",
       "    .dataframe thead th {\n",
       "        text-align: right;\n",
       "    }\n",
       "</style>\n",
       "<table border=\"1\" class=\"dataframe\">\n",
       "  <thead>\n",
       "    <tr style=\"text-align: right;\">\n",
       "      <th></th>\n",
       "      <th>SUBJECT_ID</th>\n",
       "      <th>HADM_ID</th>\n",
       "      <th>NDC</th>\n",
       "      <th>LenNDC</th>\n",
       "    </tr>\n",
       "  </thead>\n",
       "  <tbody>\n",
       "    <tr>\n",
       "      <th>0</th>\n",
       "      <td>2</td>\n",
       "      <td>163353</td>\n",
       "      <td>63323017302</td>\n",
       "      <td>11</td>\n",
       "    </tr>\n",
       "    <tr>\n",
       "      <th>1</th>\n",
       "      <td>2</td>\n",
       "      <td>163353</td>\n",
       "      <td>63323038810</td>\n",
       "      <td>11</td>\n",
       "    </tr>\n",
       "    <tr>\n",
       "      <th>2</th>\n",
       "      <td>4</td>\n",
       "      <td>185777</td>\n",
       "      <td>00088222033</td>\n",
       "      <td>11</td>\n",
       "    </tr>\n",
       "    <tr>\n",
       "      <th>3</th>\n",
       "      <td>4</td>\n",
       "      <td>185777</td>\n",
       "      <td>00456068801</td>\n",
       "      <td>11</td>\n",
       "    </tr>\n",
       "    <tr>\n",
       "      <th>4</th>\n",
       "      <td>4</td>\n",
       "      <td>185777</td>\n",
       "      <td>61787006204</td>\n",
       "      <td>11</td>\n",
       "    </tr>\n",
       "    <tr>\n",
       "      <th>5</th>\n",
       "      <td>4</td>\n",
       "      <td>185777</td>\n",
       "      <td>00024159601</td>\n",
       "      <td>11</td>\n",
       "    </tr>\n",
       "    <tr>\n",
       "      <th>6</th>\n",
       "      <td>4</td>\n",
       "      <td>185777</td>\n",
       "      <td>00002735501</td>\n",
       "      <td>11</td>\n",
       "    </tr>\n",
       "    <tr>\n",
       "      <th>7</th>\n",
       "      <td>4</td>\n",
       "      <td>185777</td>\n",
       "      <td>00074407532</td>\n",
       "      <td>11</td>\n",
       "    </tr>\n",
       "    <tr>\n",
       "      <th>8</th>\n",
       "      <td>4</td>\n",
       "      <td>185777</td>\n",
       "      <td>58177000104</td>\n",
       "      <td>11</td>\n",
       "    </tr>\n",
       "    <tr>\n",
       "      <th>9</th>\n",
       "      <td>4</td>\n",
       "      <td>185777</td>\n",
       "      <td>00004006850</td>\n",
       "      <td>11</td>\n",
       "    </tr>\n",
       "  </tbody>\n",
       "</table>\n",
       "</div>"
      ],
      "text/plain": [
       "   SUBJECT_ID  HADM_ID          NDC  LenNDC\n",
       "0           2   163353  63323017302      11\n",
       "1           2   163353  63323038810      11\n",
       "2           4   185777  00088222033      11\n",
       "3           4   185777  00456068801      11\n",
       "4           4   185777  61787006204      11\n",
       "5           4   185777  00024159601      11\n",
       "6           4   185777  00002735501      11\n",
       "7           4   185777  00074407532      11\n",
       "8           4   185777  58177000104      11\n",
       "9           4   185777  00004006850      11"
      ]
     },
     "execution_count": 9,
     "metadata": {},
     "output_type": "execute_result"
    }
   ],
   "source": [
    "med_df = process_med()\n",
    "med_df[\"LenNDC\"] = med_df['NDC'].str.len()\n",
    "med_df.head(10)"
   ]
  },
  {
   "cell_type": "code",
   "execution_count": 11,
   "metadata": {},
   "outputs": [
    {
     "name": "stdout",
     "output_type": "stream",
     "text": [
      "max is 11, min is 11\n"
     ]
    }
   ],
   "source": [
    "print(f\"max is {med_df[\"LenNDC\"].max()}, min is {med_df[\"LenNDC\"].min()}\")"
   ]
  },
  {
   "cell_type": "code",
   "execution_count": 5,
   "metadata": {},
   "outputs": [],
   "source": [
    "Field = [\"NDC\",\"ATC_class\"]\n",
    "FieldType = {\"NDC\": 'str',\n",
    "            \"ATC_class\": 'str'\n",
    "            }\n",
    "ndc2atc_df = pd.read_csv(DATA_PATH+NDC_TO_ADC_FILE, usecols=Field, dtype=FieldType)\n",
    "ndc2atc_df['NDC'] = ndc2atc_df['NDC'].str.replace('-', '')\n",
    "med_df = med_df.merge(ndc2atc_df, left_on='NDC', right_on='NDC')"
   ]
  },
  {
   "cell_type": "code",
   "execution_count": null,
   "metadata": {},
   "outputs": [],
   "source": [
    "ndc2atc_df.dtypes"
   ]
  },
  {
   "cell_type": "code",
   "execution_count": 7,
   "metadata": {},
   "outputs": [
    {
     "data": {
      "text/html": [
       "<div>\n",
       "<style scoped>\n",
       "    .dataframe tbody tr th:only-of-type {\n",
       "        vertical-align: middle;\n",
       "    }\n",
       "\n",
       "    .dataframe tbody tr th {\n",
       "        vertical-align: top;\n",
       "    }\n",
       "\n",
       "    .dataframe thead th {\n",
       "        text-align: right;\n",
       "    }\n",
       "</style>\n",
       "<table border=\"1\" class=\"dataframe\">\n",
       "  <thead>\n",
       "    <tr style=\"text-align: right;\">\n",
       "      <th></th>\n",
       "      <th>NDC</th>\n",
       "      <th>ATC_class</th>\n",
       "    </tr>\n",
       "  </thead>\n",
       "  <tbody>\n",
       "    <tr>\n",
       "      <th>0</th>\n",
       "      <td>5041942208</td>\n",
       "      <td>G02BA</td>\n",
       "    </tr>\n",
       "    <tr>\n",
       "      <th>1</th>\n",
       "      <td>6362989791</td>\n",
       "      <td>A01AD</td>\n",
       "    </tr>\n",
       "    <tr>\n",
       "      <th>2</th>\n",
       "      <td>0573016025</td>\n",
       "      <td>M01AE</td>\n",
       "    </tr>\n",
       "    <tr>\n",
       "      <th>3</th>\n",
       "      <td>5334500401</td>\n",
       "      <td>S01GA</td>\n",
       "    </tr>\n",
       "    <tr>\n",
       "      <th>4</th>\n",
       "      <td>2504775201</td>\n",
       "      <td>R02AD</td>\n",
       "    </tr>\n",
       "  </tbody>\n",
       "</table>\n",
       "</div>"
      ],
      "text/plain": [
       "          NDC ATC_class\n",
       "0  5041942208     G02BA\n",
       "1  6362989791     A01AD\n",
       "2  0573016025     M01AE\n",
       "3  5334500401     S01GA\n",
       "4  2504775201     R02AD"
      ]
     },
     "execution_count": 7,
     "metadata": {},
     "output_type": "execute_result"
    }
   ],
   "source": [
    "ndc2atc_df.head()"
   ]
  }
 ],
 "metadata": {
  "kernelspec": {
   "display_name": "base",
   "language": "python",
   "name": "python3"
  },
  "language_info": {
   "codemirror_mode": {
    "name": "ipython",
    "version": 3
   },
   "file_extension": ".py",
   "mimetype": "text/x-python",
   "name": "python",
   "nbconvert_exporter": "python",
   "pygments_lexer": "ipython3",
   "version": "3.12.4"
  }
 },
 "nbformat": 4,
 "nbformat_minor": 2
}
