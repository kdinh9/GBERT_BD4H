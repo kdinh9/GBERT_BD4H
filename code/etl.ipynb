{
 "cells": [
  {
   "cell_type": "code",
   "execution_count": 7,
   "metadata": {},
   "outputs": [],
   "source": [
    "import pandas as pd\n",
    "import numpy as np"
   ]
  },
  {
   "cell_type": "code",
   "execution_count": 8,
   "metadata": {},
   "outputs": [],
   "source": [
    "DATA_PATH = \"../data/\"\n",
    "MED_FILE = \"PRESCRIPTIONS.csv\"\n",
    "DIAGS_FILE = \"DIAGNOSES_ICD.csv\"\n",
    "NDC_TO_ADC_FILE = \"package_NDC_ATC4_classes.csv\""
   ]
  },
  {
   "cell_type": "code",
   "execution_count": 9,
   "metadata": {},
   "outputs": [],
   "source": [
    "def process_med():\n",
    "    Field = [\"SUBJECT_ID\",\"HADM_ID\",\"ICUSTAY_ID\",\"STARTDATE\",\"NDC\"]\n",
    "    FieldType = {\"SUBJECT_ID\": 'Int64',\n",
    "                \"HADM_ID\": 'Int64',\n",
    "                \"ICUSTAY_ID\": 'Int64',\n",
    "                \"NDC\": 'str',\n",
    "                }\n",
    "    med_df = pd.read_csv(DATA_PATH+MED_FILE, usecols=Field, dtype=FieldType, parse_dates=[\"STARTDATE\"])\n",
    "\n",
    "    med_df = med_df[med_df['NDC'] != '0'] \n",
    "    med_df.fillna(method='pad', inplace=True)\n",
    "    med_df.dropna(inplace=True) \n",
    "    med_df.drop_duplicates(inplace=True)\n",
    "    med_df.sort_values(by=['SUBJECT_ID', 'HADM_ID', 'ICUSTAY_ID', 'STARTDATE'], inplace=True)\n",
    "    med_df = med_df.reset_index(drop=True)\n",
    "\n",
    "    def filter_first24hour_med(med_df):\n",
    "        med_df_new = med_df.drop(columns=['NDC'])\n",
    "        med_df_new = med_df_new.groupby(by=['SUBJECT_ID','HADM_ID','ICUSTAY_ID']).head(1).reset_index(drop=True) #returns the first startdate\n",
    "        med_df_new = pd.merge(med_df_new, med_df, on=['SUBJECT_ID','HADM_ID','ICUSTAY_ID','STARTDATE'])\n",
    "        med_df_new = med_df_new.drop(columns=['STARTDATE'])\n",
    "        return med_df_new\n",
    "    med_df = filter_first24hour_med(med_df) \n",
    "    med_df = med_df.drop(columns=['ICUSTAY_ID'])\n",
    "    med_df = med_df.drop_duplicates()\n",
    "\n",
    "    return med_df.reset_index(drop=True)"
   ]
  },
  {
   "cell_type": "code",
   "execution_count": 10,
   "metadata": {},
   "outputs": [],
   "source": [
    "def process_ndc2atc4():\n",
    "    \"\"\" process_ndc2atc4 reformats ndc from 10 digits to 11 digits \n",
    "            https://www.michigan.gov/-/media/Project/Websites/lara/healthsystemslicensing/Folder4/lara_MAPS_NDC_Guidelines.pdf?rev=4cb0e4c8d98946659f47dce703dabc22\n",
    "\n",
    "        return: 2 column array ['NDC','ATC_class']\n",
    "    \"\"\"\n",
    "    Field = [\"NDC\",\"ATC_class\"]\n",
    "    FieldType = {\"NDC\": 'str',\n",
    "                \"ATC_class\": 'str'\n",
    "                }\n",
    "    ndc2atc_df = pd.read_csv(DATA_PATH+NDC_TO_ADC_FILE, usecols=Field, dtype=FieldType)\n",
    "    ndc2atc_df[['Seg1', 'Seg2', 'Seg3']] = ndc2atc_df['NDC'].str.split('-', expand=True)\n",
    "    ndc2atc_df['Seg1'] = ndc2atc_df['Seg1'].str.pad(side=\"left\",width=5,fillchar='0')\n",
    "    ndc2atc_df['Seg2'] = ndc2atc_df['Seg2'].str.pad(side=\"left\",width=4,fillchar='0')\n",
    "    ndc2atc_df['Seg3'] = ndc2atc_df['Seg3'].str.pad(side=\"left\",width=2,fillchar='0')\n",
    "    ndc2atc_df['NDC'] = ndc2atc_df[['Seg1', 'Seg2', 'Seg3']].agg(''.join, axis=1)\n",
    "    ndc2atc_df = ndc2atc_df.drop_duplicates()\n",
    "    return ndc2atc_df.filter(items=['NDC','ATC_class'])"
   ]
  },
  {
   "cell_type": "code",
   "execution_count": 11,
   "metadata": {},
   "outputs": [
    {
     "name": "stderr",
     "output_type": "stream",
     "text": [
      "C:\\Users\\jakeh\\AppData\\Local\\Temp\\ipykernel_10604\\3121096391.py:11: FutureWarning: DataFrame.fillna with 'method' is deprecated and will raise in a future version. Use obj.ffill() or obj.bfill() instead.\n",
      "  med_df.fillna(method='pad', inplace=True)\n"
     ]
    }
   ],
   "source": [
    "med_df = process_med()\n",
    "ndc2atc_df = process_ndc2atc4()\n"
   ]
  },
  {
   "cell_type": "code",
   "execution_count": 12,
   "metadata": {},
   "outputs": [
    {
     "data": {
      "text/plain": [
       "(337186, 2)"
      ]
     },
     "execution_count": 12,
     "metadata": {},
     "output_type": "execute_result"
    }
   ],
   "source": [
    "ndc2atc_df.shape"
   ]
  },
  {
   "cell_type": "code",
   "execution_count": 13,
   "metadata": {},
   "outputs": [],
   "source": [
    "# create map\n",
    "med_df['NDC'].unique()\n",
    "\n",
    "np.savetxt(str(DATA_PATH)+\"input.txt\", med_df['NDC'].unique(), fmt='%s')\n"
   ]
  },
  {
   "cell_type": "code",
   "execution_count": 14,
   "metadata": {},
   "outputs": [
    {
     "data": {
      "text/plain": [
       "SUBJECT_ID     Int64\n",
       "HADM_ID        Int64\n",
       "NDC           object\n",
       "dtype: object"
      ]
     },
     "execution_count": 14,
     "metadata": {},
     "output_type": "execute_result"
    }
   ],
   "source": [
    "med_df.dtypes"
   ]
  },
  {
   "cell_type": "code",
   "execution_count": 15,
   "metadata": {},
   "outputs": [
    {
     "data": {
      "text/plain": [
       "array(['63323017302', '63323038810', '00088222033', ..., '00904125061',\n",
       "       '11980002205', '00075800180'], dtype=object)"
      ]
     },
     "execution_count": 15,
     "metadata": {},
     "output_type": "execute_result"
    }
   ],
   "source": [
    "med_df['NDC'].unique()"
   ]
  },
  {
   "cell_type": "code",
   "execution_count": 16,
   "metadata": {},
   "outputs": [
    {
     "data": {
      "text/plain": [
       "(1898277, 4)"
      ]
     },
     "execution_count": 16,
     "metadata": {},
     "output_type": "execute_result"
    }
   ],
   "source": [
    "test = med_df.merge(ndc2atc_df, right_on='NDC',left_on='NDC', how='left')\n",
    "test = test.drop_duplicates()\n",
    "test.shape"
   ]
  },
  {
   "cell_type": "code",
   "execution_count": 28,
   "metadata": {},
   "outputs": [],
   "source": [
    "def process_diag():\n",
    "    diag_df = pd.read_csv(DATA_PATH+DIAGS_FILE)\n",
    "    diag_df = diag_df.dropna()\n",
    "    diag_df = diag_df.drop(columns=['SEQ_NUM','ROW_ID'])\n",
    "    diag_df = diag_df.drop_duplicates()\n",
    "    diag_df = diag_df.sort_values(by=['SUBJECT_ID', 'HADM_ID']).reset_index(drop=True)\n",
    "    return diag_df"
   ]
  },
  {
   "cell_type": "code",
   "execution_count": null,
   "metadata": {},
   "outputs": [],
   "source": [
    "# I did num = 129 instead of 128 to make the shapes match the output of their code since our\n",
    "# filtering methods are different.\n",
    "\n",
    "def filter_diag(diag_df, num=129):\n",
    "    most_common_codes = diag_df['ICD9_CODE'].value_counts().head(num).index\n",
    "    print(len(most_common_codes))\n",
    "    diag_df = diag_df[diag_df['ICD9_CODE'].isin(most_common_codes)]\n",
    "    return diag_df"
   ]
  },
  {
   "cell_type": "code",
   "execution_count": 35,
   "metadata": {},
   "outputs": [
    {
     "name": "stdout",
     "output_type": "stream",
     "text": [
      "process_diag\n",
      "(650940, 3)\n",
      "129\n",
      "(350136, 3)\n"
     ]
    }
   ],
   "source": [
    "diag_df = process_diag()\n",
    "print(diag_df.shape)\n",
    "\n",
    "diag_df = filter_diag(diag_df)\n",
    "print(diag_df.shape)"
   ]
  }
 ],
 "metadata": {
  "kernelspec": {
   "display_name": "GBERT_BD4H",
   "language": "python",
   "name": "python3"
  },
  "language_info": {
   "codemirror_mode": {
    "name": "ipython",
    "version": 3
   },
   "file_extension": ".py",
   "mimetype": "text/x-python",
   "name": "python",
   "nbconvert_exporter": "python",
   "pygments_lexer": "ipython3",
   "version": "3.10.16"
  }
 },
 "nbformat": 4,
 "nbformat_minor": 2
}
