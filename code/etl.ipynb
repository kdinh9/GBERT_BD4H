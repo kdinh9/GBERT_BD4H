{
 "cells": [
  {
   "cell_type": "code",
   "execution_count": null,
   "metadata": {},
   "outputs": [],
   "source": [
    "import pandas as pd\n",
    "import numpy as np"
   ]
  },
  {
   "cell_type": "code",
   "execution_count": 2,
   "metadata": {},
   "outputs": [],
   "source": [
    "DATA_PATH = \"./data/\"\n",
    "MED_FILE = \"PRESCRIPTIONS.csv\"\n",
    "DIAGS_FILE = \"DIAGNOSES_ICD.csv\"\n",
    "NDC_TO_ADC_FILE = \"package_NDC_ATC4_classes.csv\""
   ]
  },
  {
   "cell_type": "code",
   "execution_count": null,
   "metadata": {},
   "outputs": [],
   "source": [
    "def process_med():\n",
    "    Field = [\"SUBJECT_ID\",\"HADM_ID\",\"ICUSTAY_ID\",\"STARTDATE\",\"NDC\"]\n",
    "    FieldType = {\"SUBJECT_ID\": 'Int64',\n",
    "                \"HADM_ID\": 'Int64',\n",
    "                \"ICUSTAY_ID\": 'Int64',\n",
    "                \"NDC\": 'str',\n",
    "                }\n",
    "    med_df = pd.read_csv(DATA_PATH+MED_FILE, usecols=Field, dtype=FieldType, parse_dates=[\"STARTDATE\"])\n",
    "\n",
    "    med_df = med_df[med_df['NDC'] != '0'] \n",
    "    med_df.fillna(method='pad', inplace=True)\n",
    "    med_df.dropna(inplace=True) \n",
    "    med_df.drop_duplicates(inplace=True)\n",
    "    med_df.sort_values(by=['SUBJECT_ID', 'HADM_ID', 'ICUSTAY_ID', 'STARTDATE'], inplace=True)\n",
    "    med_df = med_df.reset_index(drop=True)\n",
    "\n",
    "    def filter_first24hour_med(med_df):\n",
    "        med_df_new = med_df.drop(columns=['NDC'])\n",
    "        med_df_new = med_df_new.groupby(by=['SUBJECT_ID','HADM_ID','ICUSTAY_ID']).head(1).reset_index(drop=True) #returns the first startdate\n",
    "        med_df_new = pd.merge(med_df_new, med_df, on=['SUBJECT_ID','HADM_ID','ICUSTAY_ID','STARTDATE'])\n",
    "        med_df_new = med_df_new.drop(columns=['STARTDATE'])\n",
    "        return med_df_new\n",
    "    med_df = filter_first24hour_med(med_df) \n",
    "    med_df = med_df.drop(columns=['ICUSTAY_ID'])\n",
    "    med_df = med_df.drop_duplicates()\n",
    "\n",
    "    return med_df.reset_index(drop=True)"
   ]
  },
  {
   "cell_type": "code",
   "execution_count": 48,
   "metadata": {},
   "outputs": [],
   "source": [
    "def process_ndc2atc4():\n",
    "    \"\"\" process_ndc2atc4 reformats ndc from 10 digits to 11 digits \n",
    "            https://www.michigan.gov/-/media/Project/Websites/lara/healthsystemslicensing/Folder4/lara_MAPS_NDC_Guidelines.pdf?rev=4cb0e4c8d98946659f47dce703dabc22\n",
    "\n",
    "        return: 2 column array ['NDC','ATC_class']\n",
    "    \"\"\"\n",
    "    Field = [\"NDC\",\"ATC_class\"]\n",
    "    FieldType = {\"NDC\": 'str',\n",
    "                \"ATC_class\": 'str'\n",
    "                }\n",
    "    ndc2atc_df = pd.read_csv(DATA_PATH+NDC_TO_ADC_FILE, usecols=Field, dtype=FieldType)\n",
    "    ndc2atc_df[['Seg1', 'Seg2', 'Seg3']] = ndc2atc_df['NDC'].str.split('-', expand=True)\n",
    "    ndc2atc_df['Seg1'] = ndc2atc_df['Seg1'].str.pad(side=\"left\",width=5,fillchar='0')\n",
    "    ndc2atc_df['Seg2'] = ndc2atc_df['Seg2'].str.pad(side=\"left\",width=4,fillchar='0')\n",
    "    ndc2atc_df['Seg3'] = ndc2atc_df['Seg3'].str.pad(side=\"left\",width=2,fillchar='0')\n",
    "    ndc2atc_df['NDC'] = ndc2atc_df[['Seg1', 'Seg2', 'Seg3']].agg(''.join, axis=1)\n",
    "    ndc2atc_df = ndc2atc_df.drop_duplicates()\n",
    "    return ndc2atc_df.filter(items=['NDC','ATC_class'])"
   ]
  },
  {
   "cell_type": "code",
   "execution_count": 49,
   "metadata": {},
   "outputs": [
    {
     "name": "stderr",
     "output_type": "stream",
     "text": [
      "C:\\Users\\kevin\\AppData\\Local\\Temp\\ipykernel_58968\\1164149481.py:11: FutureWarning: DataFrame.fillna with 'method' is deprecated and will raise in a future version. Use obj.ffill() or obj.bfill() instead.\n",
      "  med_df.fillna(method='pad', inplace=True)\n"
     ]
    }
   ],
   "source": [
    "med_df = process_med()\n",
    "ndc2atc_df = process_ndc2atc4()\n"
   ]
  },
  {
   "cell_type": "code",
   "execution_count": 51,
   "metadata": {},
   "outputs": [
    {
     "data": {
      "text/plain": [
       "(337186, 2)"
      ]
     },
     "execution_count": 51,
     "metadata": {},
     "output_type": "execute_result"
    }
   ],
   "source": [
    "ndc2atc_df.shape"
   ]
  },
  {
   "cell_type": "code",
   "execution_count": null,
   "metadata": {},
   "outputs": [],
   "source": [
    "# create map\n",
    "med_df['NDC'].unique()\n",
    "\n",
    "np.savetxt(str(DATA_PATH)+\"input.txt\", med_df['NDC'].unique(), fmt='%s')\n"
   ]
  },
  {
   "cell_type": "code",
   "execution_count": 65,
   "metadata": {},
   "outputs": [
    {
     "data": {
      "text/plain": [
       "SUBJECT_ID     Int64\n",
       "HADM_ID        Int64\n",
       "NDC           object\n",
       "dtype: object"
      ]
     },
     "execution_count": 65,
     "metadata": {},
     "output_type": "execute_result"
    }
   ],
   "source": [
    "med_df.dtypes"
   ]
  },
  {
   "cell_type": "code",
   "execution_count": 58,
   "metadata": {},
   "outputs": [
    {
     "data": {
      "text/plain": [
       "array(['63323017302', '63323038810', '00088222033', ..., '00904125061',\n",
       "       '11980002205', '00075800180'], dtype=object)"
      ]
     },
     "execution_count": 58,
     "metadata": {},
     "output_type": "execute_result"
    }
   ],
   "source": [
    "med_df['NDC'].unique()"
   ]
  },
  {
   "cell_type": "code",
   "execution_count": 52,
   "metadata": {},
   "outputs": [
    {
     "data": {
      "text/plain": [
       "(1898277, 4)"
      ]
     },
     "execution_count": 52,
     "metadata": {},
     "output_type": "execute_result"
    }
   ],
   "source": [
    "test = med_df.merge(ndc2atc_df, right_on='NDC',left_on='NDC', how='left')\n",
    "test = test.drop_duplicates()\n",
    "test.shape"
   ]
  }
 ],
 "metadata": {
  "kernelspec": {
   "display_name": "base",
   "language": "python",
   "name": "python3"
  },
  "language_info": {
   "codemirror_mode": {
    "name": "ipython",
    "version": 3
   },
   "file_extension": ".py",
   "mimetype": "text/x-python",
   "name": "python",
   "nbconvert_exporter": "python",
   "pygments_lexer": "ipython3",
   "version": "3.12.4"
  }
 },
 "nbformat": 4,
 "nbformat_minor": 2
}
