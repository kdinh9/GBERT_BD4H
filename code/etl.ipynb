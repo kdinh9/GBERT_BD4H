{
 "cells": [
  {
   "cell_type": "code",
   "execution_count": null,
   "metadata": {},
   "outputs": [],
   "source": [
    "import pandas as pd\n",
    "import numpy as np\n"
   ]
  },
  {
   "cell_type": "code",
   "execution_count": null,
   "metadata": {},
   "outputs": [],
   "source": [
    "DATA_PATH = \"./data/\"\n",
    "MED_FILE = \"PRESCRIPTIONS.csv\"\n",
    "DIAGS_FILE = \"DIAGNOSES_ICD.csv\"\n",
    "NDC_TO_ADC = \"package_NDC_ATC4_classes.csv\""
   ]
  },
  {
   "cell_type": "code",
   "execution_count": null,
   "metadata": {},
   "outputs": [
    {
     "name": "stderr",
     "output_type": "stream",
     "text": [
      "C:\\Users\\kevin\\AppData\\Local\\Temp\\ipykernel_57664\\2086015911.py:9: FutureWarning: DataFrame.fillna with 'method' is deprecated and will raise in a future version. Use obj.ffill() or obj.bfill() instead.\n",
      "  med_df.fillna(method='pad', inplace=True)\n"
     ]
    }
   ],
   "source": [
    "Field = [\"SUBJECT_ID\",\"HADM_ID\",\"ICUSTAY_ID\",\"STARTDATE\",\"NDC\"]\n",
    "FieldType = {\"SUBJECT_ID\": 'Int64',\n",
    "             \"HADM_ID\": 'Int64',\n",
    "             \"ICUSTAY_ID\": 'Int64',\n",
    "             \"NDC\": 'str',\n",
    "             }\n",
    "med_df = pd.read_csv(DATA_PATH+MED_FILE, usecols=Field, dtype=FieldType, parse_dates=[\"STARTDATE\"])\n",
    "med_df = med_df[med_df['NDC'] != '0'] # shape after this is (3569864, 5)\n",
    "### I'm copying their code between here, and trying to understand why they pad and dropna\n",
    "# med_df.fillna(method='pad', inplace=True)\n",
    "# med_df.dropna(inplace=True) # w/o med_df.head(20)\n",
    "# med_df.drop_duplicates(inplace=True) #(2962482, 5) without paddinng and dropping na\n",
    "###\n",
    "\n"
   ]
  },
  {
   "cell_type": "code",
   "execution_count": 48,
   "metadata": {},
   "outputs": [
    {
     "data": {
      "text/plain": [
       "(2987441, 5)"
      ]
     },
     "execution_count": 48,
     "metadata": {},
     "output_type": "execute_result"
    }
   ],
   "source": [
    "med_df.head(20)\n",
    "med_df.shape"
   ]
  },
  {
   "cell_type": "code",
   "execution_count": null,
   "metadata": {},
   "outputs": [
    {
     "name": "stdout",
     "output_type": "stream",
     "text": [
      "process_med\n"
     ]
    },
    {
     "name": "stderr",
     "output_type": "stream",
     "text": [
      "C:\\Users\\kevin\\AppData\\Local\\Temp\\ipykernel_57664\\327004468.py:3: DtypeWarning: Columns (11) have mixed types. Specify dtype option on import or set low_memory=False.\n",
      "  med_pd = pd.read_csv(DATA_PATH+MED_FILE, dtype={'NDC':'category'})\n",
      "C:\\Users\\kevin\\AppData\\Local\\Temp\\ipykernel_57664\\327004468.py:10: FutureWarning: DataFrame.fillna with 'method' is deprecated and will raise in a future version. Use obj.ffill() or obj.bfill() instead.\n",
      "  med_pd.fillna(method='pad', inplace=True)\n"
     ]
    }
   ],
   "source": [
    "### Their code\n",
    "## Process Meds\n",
    "print('process_med')\n",
    "med_pd = pd.read_csv(DATA_PATH+MED_FILE, dtype={'NDC':'category'})\n",
    "# filter\n",
    "med_pd.drop(columns=['ROW_ID','DRUG_TYPE','DRUG_NAME_POE','DRUG_NAME_GENERIC',\n",
    "                    'FORMULARY_DRUG_CD','GSN','PROD_STRENGTH','DOSE_VAL_RX',\n",
    "                    'DOSE_UNIT_RX','FORM_VAL_DISP','FORM_UNIT_DISP','FORM_UNIT_DISP',\n",
    "                    'ROUTE','ENDDATE','DRUG'], axis=1, inplace=True)\n",
    "med_pd.drop(index = med_pd[med_pd['NDC'] == '0'].index, axis=0, inplace=True)\n",
    "med_pd.fillna(method='pad', inplace=True)\n",
    "med_pd.dropna(inplace=True)\n",
    "med_pd.drop_duplicates(inplace=True) # (2987420, 5)\n",
    "# med_pd['ICUSTAY_ID'] = med_pd['ICUSTAY_ID'].astype('int64')\n",
    "# med_pd['STARTDATE'] = pd.to_datetime(med_pd['STARTDATE'], format='%Y-%m-%d %H:%M:%S')    \n",
    "# med_pd.sort_values(by=['SUBJECT_ID', 'HADM_ID', 'ICUSTAY_ID', 'STARTDATE'], inplace=True)\n",
    "# med_pd = med_pd.reset_index(drop=True)\n",
    "\n",
    "# def filter_first24hour_med(med_pd):\n",
    "#     med_pd_new = med_pd.drop(columns=['NDC'])\n",
    "#     med_pd_new = med_pd_new.groupby(by=['SUBJECT_ID','HADM_ID','ICUSTAY_ID']).head([1]).reset_index(drop=True)\n",
    "#     med_pd_new = pd.merge(med_pd_new, med_pd, on=['SUBJECT_ID','HADM_ID','ICUSTAY_ID','STARTDATE'])\n",
    "#     med_pd_new = med_pd_new.drop(columns=['STARTDATE'])\n",
    "#     return med_pd_new\n",
    "# med_pd = filter_first24hour_med(med_pd) # or next line\n",
    "# #     med_pd = med_pd.drop(columns=['STARTDATE'])\n",
    "\n",
    "# med_pd = med_pd.drop(columns=['ICUSTAY_ID'])\n",
    "# med_pd = med_pd.drop_duplicates()\n",
    "    \n",
    "#     return med_pd.reset_index(drop=True)"
   ]
  },
  {
   "cell_type": "code",
   "execution_count": 44,
   "metadata": {},
   "outputs": [
    {
     "data": {
      "text/plain": [
       "(2987420, 5)"
      ]
     },
     "execution_count": 44,
     "metadata": {},
     "output_type": "execute_result"
    }
   ],
   "source": [
    "med_pd.head(20)\n",
    "med_pd.shape"
   ]
  }
 ],
 "metadata": {
  "kernelspec": {
   "display_name": "base",
   "language": "python",
   "name": "python3"
  },
  "language_info": {
   "codemirror_mode": {
    "name": "ipython",
    "version": 3
   },
   "file_extension": ".py",
   "mimetype": "text/x-python",
   "name": "python",
   "nbconvert_exporter": "python",
   "pygments_lexer": "ipython3",
   "version": "3.12.4"
  }
 },
 "nbformat": 4,
 "nbformat_minor": 2
}
